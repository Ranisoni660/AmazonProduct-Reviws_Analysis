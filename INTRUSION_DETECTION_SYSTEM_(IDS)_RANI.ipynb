{
  "nbformat": 4,
  "nbformat_minor": 0,
  "metadata": {
    "colab": {
      "provenance": [],
      "authorship_tag": "ABX9TyNoXMg4wtHmy+30z4JHRilo",
      "include_colab_link": true
    },
    "kernelspec": {
      "name": "python3",
      "display_name": "Python 3"
    },
    "language_info": {
      "name": "python"
    }
  },
  "cells": [
    {
      "cell_type": "markdown",
      "metadata": {
        "id": "view-in-github",
        "colab_type": "text"
      },
      "source": [
        "<a href=\"https://colab.research.google.com/github/Ranisoni660/AmazonProduct-Reviws_Analysis/blob/main/INTRUSION_DETECTION_SYSTEM_(IDS)_RANI.ipynb\" target=\"_parent\"><img src=\"https://colab.research.google.com/assets/colab-badge.svg\" alt=\"Open In Colab\"/></a>"
      ]
    },
    {
      "cell_type": "markdown",
      "source": [
        "# **INTRUSION DETECTION SYSTEM (IDS) USING PYTHON**\n",
        "DATE: 6 NOVEMBER 2024"
      ],
      "metadata": {
        "id": "_VtHnYhQA6qR"
      }
    },
    {
      "cell_type": "markdown",
      "source": [
        "**DESCRIPTION**: THIS IS THE TASK 2 OF LEVEL 3 PROJECT OF THE INTERNSHIP OF **OPTIFYX TECHNOLOGY**. THIS WAS A 4 WEEK INTERNSHIP IN WHICH THIS IS ONE OF THE  PROJECT."
      ],
      "metadata": {
        "id": "A6PAFj_C_JxF"
      }
    },
    {
      "cell_type": "markdown",
      "source": [
        "**We had to Implement a basic intrusion detection\n",
        "system that can monitor network\n",
        "traffic for suspicious activities and\n",
        "generate alerts. Use pattern matching\n",
        "or anomaly detection techniques.**"
      ],
      "metadata": {
        "id": "AjQRBqUDBGA-"
      }
    },
    {
      "cell_type": "markdown",
      "source": [
        "**------------------------Import required libraries--------------------------------**"
      ],
      "metadata": {
        "id": "rQn79EsFs_M7"
      }
    },
    {
      "cell_type": "code",
      "source": [
        "# Install required libraries\n",
        "!pip install cvzone\n",
        "!pip install mediapipe"
      ],
      "metadata": {
        "colab": {
          "base_uri": "https://localhost:8080/"
        },
        "id": "kX-8TjWG2MAU",
        "outputId": "b884c940-409c-423c-e704-f476c0576c78"
      },
      "execution_count": 1,
      "outputs": [
        {
          "output_type": "stream",
          "name": "stdout",
          "text": [
            "Collecting cvzone\n",
            "  Downloading cvzone-1.6.1.tar.gz (25 kB)\n",
            "  Preparing metadata (setup.py) ... \u001b[?25l\u001b[?25hdone\n",
            "Requirement already satisfied: opencv-python in /usr/local/lib/python3.10/dist-packages (from cvzone) (4.10.0.84)\n",
            "Requirement already satisfied: numpy in /usr/local/lib/python3.10/dist-packages (from cvzone) (1.26.4)\n",
            "Building wheels for collected packages: cvzone\n",
            "  Building wheel for cvzone (setup.py) ... \u001b[?25l\u001b[?25hdone\n",
            "  Created wheel for cvzone: filename=cvzone-1.6.1-py3-none-any.whl size=26298 sha256=9c9500d03918ffc81f25898c547649d751ad781098504150d57a1d803584cd30\n",
            "  Stored in directory: /root/.cache/pip/wheels/2c/9f/b3/92e945ac4a71bf727a92463f38155cc5a4fa49c5010b38ec4c\n",
            "Successfully built cvzone\n",
            "Installing collected packages: cvzone\n",
            "Successfully installed cvzone-1.6.1\n",
            "Collecting mediapipe\n",
            "  Downloading mediapipe-0.10.18-cp310-cp310-manylinux_2_17_x86_64.manylinux2014_x86_64.whl.metadata (9.7 kB)\n",
            "Requirement already satisfied: absl-py in /usr/local/lib/python3.10/dist-packages (from mediapipe) (1.4.0)\n",
            "Requirement already satisfied: attrs>=19.1.0 in /usr/local/lib/python3.10/dist-packages (from mediapipe) (24.2.0)\n",
            "Requirement already satisfied: flatbuffers>=2.0 in /usr/local/lib/python3.10/dist-packages (from mediapipe) (24.3.25)\n",
            "Requirement already satisfied: jax in /usr/local/lib/python3.10/dist-packages (from mediapipe) (0.4.33)\n",
            "Requirement already satisfied: jaxlib in /usr/local/lib/python3.10/dist-packages (from mediapipe) (0.4.33)\n",
            "Requirement already satisfied: matplotlib in /usr/local/lib/python3.10/dist-packages (from mediapipe) (3.8.0)\n",
            "Requirement already satisfied: numpy<2 in /usr/local/lib/python3.10/dist-packages (from mediapipe) (1.26.4)\n",
            "Requirement already satisfied: opencv-contrib-python in /usr/local/lib/python3.10/dist-packages (from mediapipe) (4.10.0.84)\n",
            "Collecting protobuf<5,>=4.25.3 (from mediapipe)\n",
            "  Downloading protobuf-4.25.5-cp37-abi3-manylinux2014_x86_64.whl.metadata (541 bytes)\n",
            "Collecting sounddevice>=0.4.4 (from mediapipe)\n",
            "  Downloading sounddevice-0.5.1-py3-none-any.whl.metadata (1.4 kB)\n",
            "Requirement already satisfied: sentencepiece in /usr/local/lib/python3.10/dist-packages (from mediapipe) (0.2.0)\n",
            "Requirement already satisfied: CFFI>=1.0 in /usr/local/lib/python3.10/dist-packages (from sounddevice>=0.4.4->mediapipe) (1.17.1)\n",
            "Requirement already satisfied: ml-dtypes>=0.2.0 in /usr/local/lib/python3.10/dist-packages (from jax->mediapipe) (0.4.1)\n",
            "Requirement already satisfied: opt-einsum in /usr/local/lib/python3.10/dist-packages (from jax->mediapipe) (3.4.0)\n",
            "Requirement already satisfied: scipy>=1.10 in /usr/local/lib/python3.10/dist-packages (from jax->mediapipe) (1.13.1)\n",
            "Requirement already satisfied: contourpy>=1.0.1 in /usr/local/lib/python3.10/dist-packages (from matplotlib->mediapipe) (1.3.0)\n",
            "Requirement already satisfied: cycler>=0.10 in /usr/local/lib/python3.10/dist-packages (from matplotlib->mediapipe) (0.12.1)\n",
            "Requirement already satisfied: fonttools>=4.22.0 in /usr/local/lib/python3.10/dist-packages (from matplotlib->mediapipe) (4.54.1)\n",
            "Requirement already satisfied: kiwisolver>=1.0.1 in /usr/local/lib/python3.10/dist-packages (from matplotlib->mediapipe) (1.4.7)\n",
            "Requirement already satisfied: packaging>=20.0 in /usr/local/lib/python3.10/dist-packages (from matplotlib->mediapipe) (24.1)\n",
            "Requirement already satisfied: pillow>=6.2.0 in /usr/local/lib/python3.10/dist-packages (from matplotlib->mediapipe) (10.4.0)\n",
            "Requirement already satisfied: pyparsing>=2.3.1 in /usr/local/lib/python3.10/dist-packages (from matplotlib->mediapipe) (3.2.0)\n",
            "Requirement already satisfied: python-dateutil>=2.7 in /usr/local/lib/python3.10/dist-packages (from matplotlib->mediapipe) (2.8.2)\n",
            "Requirement already satisfied: pycparser in /usr/local/lib/python3.10/dist-packages (from CFFI>=1.0->sounddevice>=0.4.4->mediapipe) (2.22)\n",
            "Requirement already satisfied: six>=1.5 in /usr/local/lib/python3.10/dist-packages (from python-dateutil>=2.7->matplotlib->mediapipe) (1.16.0)\n",
            "Downloading mediapipe-0.10.18-cp310-cp310-manylinux_2_17_x86_64.manylinux2014_x86_64.whl (36.1 MB)\n",
            "\u001b[2K   \u001b[90m━━━━━━━━━━━━━━━━━━━━━━━━━━━━━━━━━━━━━━━━\u001b[0m \u001b[32m36.1/36.1 MB\u001b[0m \u001b[31m16.8 MB/s\u001b[0m eta \u001b[36m0:00:00\u001b[0m\n",
            "\u001b[?25hDownloading protobuf-4.25.5-cp37-abi3-manylinux2014_x86_64.whl (294 kB)\n",
            "\u001b[2K   \u001b[90m━━━━━━━━━━━━━━━━━━━━━━━━━━━━━━━━━━━━━━━━\u001b[0m \u001b[32m294.6/294.6 kB\u001b[0m \u001b[31m15.1 MB/s\u001b[0m eta \u001b[36m0:00:00\u001b[0m\n",
            "\u001b[?25hDownloading sounddevice-0.5.1-py3-none-any.whl (32 kB)\n",
            "Installing collected packages: protobuf, sounddevice, mediapipe\n",
            "  Attempting uninstall: protobuf\n",
            "    Found existing installation: protobuf 3.20.3\n",
            "    Uninstalling protobuf-3.20.3:\n",
            "      Successfully uninstalled protobuf-3.20.3\n",
            "\u001b[31mERROR: pip's dependency resolver does not currently take into account all the packages that are installed. This behaviour is the source of the following dependency conflicts.\n",
            "tensorflow-metadata 1.16.1 requires protobuf<4.21,>=3.20.3; python_version < \"3.11\", but you have protobuf 4.25.5 which is incompatible.\u001b[0m\u001b[31m\n",
            "\u001b[0mSuccessfully installed mediapipe-0.10.18 protobuf-4.25.5 sounddevice-0.5.1\n"
          ]
        }
      ]
    },
    {
      "cell_type": "code",
      "source": [
        "import cv2  # Import OpenCV library for computer vision tasks\n",
        "import cvzone  # Import CVZone library for pose detection\n",
        "from cvzone.PoseModule import PoseDetector  # Import PoseDetector class from CVZone"
      ],
      "metadata": {
        "id": "PvmJceyb2aV_"
      },
      "execution_count": 2,
      "outputs": []
    },
    {
      "cell_type": "code",
      "source": [
        "# Load pre-recorded video\n",
        "cap = cv2.VideoCapture('video.mp4')  # Load video file using OpenCV's VideoCapture"
      ],
      "metadata": {
        "id": "QCK4e8O12hzC"
      },
      "execution_count": null,
      "outputs": []
    },
    {
      "cell_type": "code",
      "source": [
        "# Initialize pose detector\n",
        "detector = PoseDetector()  # Create an instance of PoseDetector"
      ],
      "metadata": {
        "id": "U0PqobSp3z_C"
      },
      "execution_count": null,
      "outputs": []
    },
    {
      "cell_type": "code",
      "source": [
        "# Initialize variables\n",
        "detect_count = 0  # Initialize detection count to track human presence\n",
        "sent_sms = False  # Initialize SMS sent flag to prevent multiple notifications"
      ],
      "metadata": {
        "id": "hVCoeFeOD2jK"
      },
      "execution_count": 3,
      "outputs": []
    },
    {
      "cell_type": "code",
      "source": [
        "while True:  # Infinite loop to process video frames\n",
        "    # Read image from video\n",
        "    success, img = cap.read()  # Read a frame from the video using OpenCV\n",
        "\n",
        "    # Check if image capture was successful\n",
        "    if not success:  # If frame reading fails\n",
        "        print(\"Failed to capture image. Exiting...\")  # Print error message\n",
        "        break  # Exit the loop\n",
        "\n",
        "    # Find pose in image\n",
        "    img = detector.findPose(img)  # Use PoseDetector to find human pose in the frame\n",
        "    imlist, bbox = detector.findPosition(img)  # Get pose landmarks and bounding box\n",
        "\n",
        "    # Check if pose landmarks are detected\n",
        "    if len(imlist) > 0:  # If pose landmarks are found\n",
        "        print(\"Human Detect\")  # Print detection message\n",
        "        detect_count += 1  # Increment detection count\n",
        "\n",
        "        # Check if detection count exceeds threshold (50)\n",
        "        if detect_count > 50 and not sent_sms:\n",
        "            # Replace SMS sending with alternative notification\n",
        "            print(\"Intrusion detected!\")  # Print notification message\n",
        "            sent_sms = True  # Set SMS sent flag to prevent multiple notifications\n",
        "    else:  # If no pose landmarks are found\n",
        "        detect_count = 0  # Reset detection count\n",
        "        sent_sms = False  # Reset SMS sent flag\n",
        "\n",
        "    # Display image\n",
        "    cv2.imshow(\"Output\", img)  # Display the output frame using OpenCV\n",
        "\n",
        "    # Exit on key press\n",
        "    if cv2.waitKey(1) & 0xFF == ord('q'):  # Check for 'q' key press\n",
        "        break  # Exit the loop"
      ],
      "metadata": {
        "id": "VGLBV9c5D2gE"
      },
      "execution_count": null,
      "outputs": []
    },
    {
      "cell_type": "code",
      "source": [
        "# Release video and close window\n",
        "cap.release()  # Release video capture resource\n",
        "cv2.destroyAllWindows()  # Close all OpenCV windows"
      ],
      "metadata": {
        "id": "jOoIpBt3D2dV"
      },
      "execution_count": null,
      "outputs": []
    },
    {
      "cell_type": "markdown",
      "source": [
        "Explanation of Key Components:\n",
        "\n",
        "1. OpenCV (cv2): A computer vision library used for image and video processing.\n",
        "2. CVZone: A library built on top of OpenCV for pose detection and tracking.\n",
        "3. PoseDetector: A class from CVZone used to detect human poses in images.\n",
        "4. VideoCapture: An OpenCV function to load video files or capture live video.\n",
        "5. findPose: A PoseDetector method to detect human poses in images.\n",
        "6. findPosition: A PoseDetector method to get pose landmarks and bounding boxes.\n",
        "7. imshow: An OpenCV function to display images.\n",
        "8. waitKey: An OpenCV function to handle keyboard events."
      ],
      "metadata": {
        "id": "_SU1bNXQ5Sk-"
      }
    },
    {
      "cell_type": "markdown",
      "source": [],
      "metadata": {
        "id": "Kp1gqolQ5YPr"
      }
    }
  ]
}